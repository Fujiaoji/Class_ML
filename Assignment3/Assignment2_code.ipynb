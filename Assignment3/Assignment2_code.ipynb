{
 "cells": [
  {
   "cell_type": "markdown",
   "id": "dffe6cf7",
   "metadata": {},
   "source": [
    "# Assignment 2 - Sound Recognition"
   ]
  },
  {
   "cell_type": "markdown",
   "id": "3abf52ca",
   "metadata": {},
   "source": [
    "## 1. Pre-processing: Load All Recordings, Median Filter, and FFT"
   ]
  },
  {
   "cell_type": "code",
   "execution_count": 2,
   "id": "04c8aa68",
   "metadata": {},
   "outputs": [],
   "source": [
    "import librosa\n",
    "import glob\n",
    "import numpy as np\n",
    "import scipy as sc\n",
    "import matplotlib.pyplot as plt\n",
    "import scipy.io.wavfile as wavfile\n",
    "\n",
    "from scipy.fftpack import fft\n",
    "from scipy import signal"
   ]
  },
  {
   "cell_type": "code",
   "execution_count": 3,
   "id": "11e25bfa",
   "metadata": {},
   "outputs": [],
   "source": [
    "def load_data(classes):\n",
    "    class Audios():\n",
    "        f= None\n",
    "        fs= None\n",
    "        # xf= None # used to plot picture\n",
    "        # yf= None # used to plot picture\n",
    "        tag= None\n",
    "    tags=[]\n",
    "    data=[]\n",
    "    med_filt_kernel = 3\n",
    "\n",
    "    for i_class in classes:\n",
    "        for each_file in glob.glob(\"Dataset/\"+i_class+\"/*.wav\"):\n",
    "            audio=Audios()\n",
    "            f, fs=librosa.load(each_file, sr=None, mono=True, offset=0.0, duration=None) # load file\n",
    "            f = signal.medfilt(f, kernel_size=med_filt_kernel) # median filter with zero padding \n",
    "            audio.f= f\n",
    "            audio.fs= fs\n",
    "            audio.tag=i_class\n",
    "            tags.append(audio.tag)\n",
    "            data.append(audio)\n",
    "    return data, tags"
   ]
  },
  {
   "cell_type": "code",
   "execution_count": 4,
   "id": "417a6a09",
   "metadata": {},
   "outputs": [],
   "source": [
    "classes = [\"Alarm\", \"Silence\", \"Music\", \"Microwave\", \"Clean\", \"Blender\"]\n",
    "data, tags = load_data(classes)"
   ]
  },
  {
   "cell_type": "markdown",
   "id": "055f3e4b",
   "metadata": {},
   "source": [
    "## 2. Model Building "
   ]
  },
  {
   "cell_type": "code",
   "execution_count": 5,
   "id": "108f3188",
   "metadata": {},
   "outputs": [],
   "source": [
    "import cv2\n",
    "\n",
    "from numpy.lib.stride_tricks import sliding_window_view\n",
    "from sklearn.model_selection import train_test_split\n",
    "from sklearn.svm import SVC\n",
    "from sklearn.model_selection import KFold, cross_val_score\n",
    "from sklearn.metrics import confusion_matrix\n",
    "from sklearn.metrics import classification_report, accuracy_score\n",
    "from sklearn import preprocessing\n",
    "\n"
   ]
  },
  {
   "cell_type": "markdown",
   "id": "68c87e2f",
   "metadata": {},
   "source": [
    "## 2.1 Binning Models "
   ]
  },
  {
   "cell_type": "markdown",
   "id": "8d68c1aa",
   "metadata": {},
   "source": [
    "### 2.1.1 Windowing"
   ]
  },
  {
   "cell_type": "markdown",
   "id": "5613c845",
   "metadata": {},
   "source": [
    "#### I. Cut into windows and combine windows to get sample features"
   ]
  },
  {
   "cell_type": "code",
   "execution_count": 6,
   "id": "938fe258",
   "metadata": {},
   "outputs": [],
   "source": [
    "def cutting_into_windows(sample, sample_fs):\n",
    "    \"\"\"Cutting sample into windows, every is 6s\"\"\"\n",
    "    window_size = int(sample_fs * 4)# 6s instances/window\n",
    "    window_overlap = window_size // 2\n",
    "    windows = []\n",
    "    i = 0\n",
    "    win_count = 0\n",
    "    while ((i + window_size) < len(sample)) and (win_count < 12):\n",
    "        windows.append(sample[i: i + window_size])\n",
    "        i = i + window_size - window_overlap\n",
    "        win_count = win_count + 1\n",
    "    return np.array(windows)"
   ]
  },
  {
   "cell_type": "code",
   "execution_count": 7,
   "id": "b6510157",
   "metadata": {},
   "outputs": [],
   "source": [
    "def get_window_features(FFT_SIZE, num_freq_bins, num_time_bins, data):\n",
    "    \"\"\"Obtain all data's features, shape=(num_data, window_num * num_freq_bins * num_time_bins\"\"\"\n",
    "    \n",
    "    features=[]\n",
    "    for sample in data:\n",
    "        windows = cutting_into_windows(sample.f, sample.fs)\n",
    "        sample_features = []\n",
    "        for window in windows:\n",
    "            f,t,pxx = signal.spectrogram(window, nperseg=FFT_SIZE, fs=sample.fs, noverlap=int(FFT_SIZE/4))\n",
    "            resize_pxx=cv2.resize(pxx[:,:],(num_time_bins,num_freq_bins))\n",
    "        \n",
    "            sample_features.append(resize_pxx.reshape(-1, ))\n",
    "            pass\n",
    "        features.append(np.array(sample_features).reshape(-1, ))\n",
    "    features = np.array(features)\n",
    "    return features\n",
    "    "
   ]
  },
  {
   "cell_type": "markdown",
   "id": "5f8ede4f",
   "metadata": {},
   "source": [
    "#### II. Training and Save Model"
   ]
  },
  {
   "cell_type": "code",
   "execution_count": 8,
   "id": "ab2edc31",
   "metadata": {},
   "outputs": [],
   "source": [
    "from sklearn.metrics import accuracy_score\n",
    "from sklearn.ensemble import RandomForestClassifier\n",
    "from sklearn.model_selection import KFold\n",
    "from sklearn.metrics import ConfusionMatrixDisplay\n",
    "import joblib\n"
   ]
  },
  {
   "cell_type": "code",
   "execution_count": 9,
   "id": "d2824825",
   "metadata": {},
   "outputs": [
    {
     "name": "stderr",
     "output_type": "stream",
     "text": [
      "/Users/fji1/opt/anaconda3/envs/machinelearning/lib/python3.8/site-packages/sklearn/model_selection/_split.py:684: UserWarning: The least populated class in y has only 8 members, which is less than n_splits=10.\n",
      "  warnings.warn(\n"
     ]
    },
    {
     "name": "stdout",
     "output_type": "stream",
     "text": [
      "Average Cross Validation Score from Training:\n",
      "0.9777777777777779\n",
      "\n",
      "\n",
      "Confusion Matrix:\n",
      "[[ 2  0  0  0  0  0]\n",
      " [ 0  5  0  0  0  0]\n",
      " [ 0  0  7  0  0  0]\n",
      " [ 0  0  0  4  0  0]\n",
      " [ 0  0  0  0  6  0]\n",
      " [ 0  0  0  0  0 12]]\n",
      "\n",
      "\n",
      "Test Statistics:\n",
      "              precision    recall  f1-score   support\n",
      "\n",
      "       Alarm       1.00      1.00      1.00         2\n",
      "     Blender       1.00      1.00      1.00         5\n",
      "       Clean       1.00      1.00      1.00         7\n",
      "   Microwave       1.00      1.00      1.00         4\n",
      "       Music       1.00      1.00      1.00         6\n",
      "     Silence       1.00      1.00      1.00        12\n",
      "\n",
      "    accuracy                           1.00        36\n",
      "   macro avg       1.00      1.00      1.00        36\n",
      "weighted avg       1.00      1.00      1.00        36\n",
      "\n",
      "\n",
      "\n",
      "Testing Accuracy: 1.0\n"
     ]
    },
    {
     "data": {
      "image/png": "[encoded data removed]",
      "text/plain": [
       "<Figure size 432x288 with 2 Axes>"
      ]
     },
     "metadata": {
      "needs_background": "light"
     },
     "output_type": "display_data"
    },
    {
     "data": {
      "text/plain": [
       "['Model/bin_window.joblib']"
      ]
     },
     "execution_count": 9,
     "metadata": {},
     "output_type": "execute_result"
    }
   ],
   "source": [
    "FFT_SIZE=1024\n",
    "num_freq_bins=20\n",
    "num_time_bins=20\n",
    "\n",
    "bin_window_features = get_window_features(FFT_SIZE, num_freq_bins, num_time_bins, data)\n",
    "scaler = preprocessing.StandardScaler()\n",
    "bin_window_features = scaler.fit_transform(bin_window_features)\n",
    "\n",
    "\n",
    "xtrain, xtest, ytrain, ytest = train_test_split(bin_window_features, tags, test_size=0.3, random_state=100)\n",
    "clf = RandomForestClassifier(random_state=100)\n",
    "# clf = SVC()\n",
    "clf.fit(xtrain, ytrain)\n",
    "ypred = clf.predict(xtrain)\n",
    "\n",
    "scores = cross_val_score(clf, xtrain, ytrain, cv=10)\n",
    "print('Average Cross Validation Score from Training:', scores.mean(), sep='\\n', end='\\n\\n\\n')\n",
    "\n",
    "#testing the model\n",
    "ypred = clf.predict(xtest)\n",
    "\n",
    "cm = confusion_matrix(ytest, ypred)\n",
    "cr = classification_report(ytest, ypred)\n",
    "\n",
    "print('Confusion Matrix:', cm, sep='\\n', end='\\n\\n\\n')\n",
    "print('Test Statistics:', cr, sep='\\n', end='\\n\\n\\n')\n",
    "\n",
    "print('Testing Accuracy:', accuracy_score(ytest, ypred))\n",
    "names = [\"Alarm\", \"Blender\", \"Clean\", \"Microwave\", \"Music\", \"Silence\"]\n",
    "cm_display = ConfusionMatrixDisplay(cm, display_labels=names)\n",
    "cm_display.plot()\n",
    "plt.savefig(\"Pictures/bin_window_test_cf.png\")\n",
    "plt.show()\n",
    "\n",
    "joblib.dump(clf, \"Model/bin_window.joblib\")"
   ]
  },
  {
   "cell_type": "markdown",
   "id": "c4594639",
   "metadata": {},
   "source": [
    "### 2.1.2 No windowing"
   ]
  },
  {
   "cell_type": "code",
   "execution_count": 10,
   "id": "06ce80e5",
   "metadata": {},
   "outputs": [],
   "source": [
    "from sklearn import preprocessing\n"
   ]
  },
  {
   "cell_type": "code",
   "execution_count": 11,
   "id": "87b91809",
   "metadata": {},
   "outputs": [],
   "source": [
    "def get_no_window_features(FFT_SIZE, num_freq_bins, num_time_bins, data):\n",
    "    \"\"\"Obtain all data's features, shape=(num_data, window_num * num_freq_bins * num_time_bins\"\"\"\n",
    "    \n",
    "    features=[]\n",
    "    for sample in data:\n",
    "        f,t,pxx = signal.spectrogram(sample.f, nperseg=FFT_SIZE, fs=sample.fs, noverlap=int(FFT_SIZE/4))\n",
    "        resize_pxx=cv2.resize(pxx[:,:],(num_time_bins,num_freq_bins))\n",
    "    \n",
    "        features.append(resize_pxx.reshape(-1, ))\n",
    "        pass\n",
    "    features = np.array(features)\n",
    "    return features"
   ]
  },
  {
   "cell_type": "code",
   "execution_count": 12,
   "id": "4b063533",
   "metadata": {
    "scrolled": true
   },
   "outputs": [
    {
     "name": "stdout",
     "output_type": "stream",
     "text": [
      "Average Cross Validation Score from Training:\n",
      "0.9888888888888889\n",
      "\n",
      "\n",
      "Testing Accuracy: 1.0\n",
      "Confusion Matrix:\n",
      "[[7 0 0 0 0 0]\n",
      " [0 5 0 0 0 0]\n",
      " [0 0 7 0 0 0]\n",
      " [0 0 0 4 0 0]\n",
      " [0 0 0 0 7 0]\n",
      " [0 0 0 0 0 6]]\n",
      "\n",
      "\n",
      "Test Statistics:\n",
      "              precision    recall  f1-score   support\n",
      "\n",
      "       Alarm       1.00      1.00      1.00         7\n",
      "     Blender       1.00      1.00      1.00         5\n",
      "       Clean       1.00      1.00      1.00         7\n",
      "   Microwave       1.00      1.00      1.00         4\n",
      "       Music       1.00      1.00      1.00         7\n",
      "     Silence       1.00      1.00      1.00         6\n",
      "\n",
      "    accuracy                           1.00        36\n",
      "   macro avg       1.00      1.00      1.00        36\n",
      "weighted avg       1.00      1.00      1.00        36\n",
      "\n",
      "\n",
      "\n",
      "Testing Accuracy: 1.0\n"
     ]
    },
    {
     "data": {
      "image/png": "[encoded data removed]",
      "text/plain": [
       "<Figure size 432x288 with 2 Axes>"
      ]
     },
     "metadata": {
      "needs_background": "light"
     },
     "output_type": "display_data"
    },
    {
     "data": {
      "text/plain": [
       "['Model/bin_no_window.joblib']"
      ]
     },
     "execution_count": 12,
     "metadata": {},
     "output_type": "execute_result"
    }
   ],
   "source": [
    "num_freq_bins=50\n",
    "num_time_bins=50\n",
    "\n",
    "bin_no_window_feature = get_no_window_features(FFT_SIZE, num_freq_bins, num_time_bins, data)\n",
    "\n",
    "scaler = preprocessing.StandardScaler()\n",
    "bin_no_window_feature = scaler.fit_transform(bin_no_window_feature)\n",
    "\n",
    "xtrain, xtest, ytrain, ytest = train_test_split(bin_no_window_feature, tags, test_size=0.30,random_state=200)\n",
    "\n",
    "\n",
    "clf = RandomForestClassifier(random_state=200)\n",
    "clf.fit(xtrain, ytrain)\n",
    "cv_scores = cross_val_score(clf, xtrain, ytrain, cv=10)\n",
    "print('Average Cross Validation Score from Training:', cv_scores.mean(), sep='\\n', end='\\n\\n\\n')\n",
    "\n",
    "#testing the model\n",
    "ypred = clf.predict(xtest)\n",
    "cm = confusion_matrix(ytest, ypred)\n",
    "cr = classification_report(ytest, ypred)\n",
    "\n",
    "print('Testing Accuracy:', accuracy_score(ytest, ypred))\n",
    "\n",
    "print('Confusion Matrix:', cm, sep='\\n', end='\\n\\n\\n')\n",
    "print('Test Statistics:', cr, sep='\\n', end='\\n\\n\\n')\n",
    "\n",
    "print('Testing Accuracy:', accuracy_score(ytest, ypred))\n",
    "names = [\"Alarm\", \"Blender\", \"Clean\", \"Microwave\", \"Music\", \"Silence\"]\n",
    "cm_display = ConfusionMatrixDisplay(cm, display_labels=names)\n",
    "cm_display.plot()\n",
    "plt.savefig(\"Pictures/bin_no_window_test_cf.png\")\n",
    "plt.show()\n",
    "\n",
    "joblib.dump(clf, \"Model/bin_no_window.joblib\")"
   ]
  },
  {
   "cell_type": "markdown",
   "id": "78894648",
   "metadata": {},
   "source": [
    "## 2.2 Domain Specific Models"
   ]
  },
  {
   "cell_type": "markdown",
   "id": "7f7fac7c",
   "metadata": {},
   "source": [
    "### 2.2.1 Windowing"
   ]
  },
  {
   "cell_type": "markdown",
   "id": "a340b146",
   "metadata": {},
   "source": [
    "#### I. Cut into windows and combine windows to get sample features"
   ]
  },
  {
   "cell_type": "markdown",
   "id": "5d19b022",
   "metadata": {},
   "source": [
    "Cutting windows is already appeared before, so just utilize"
   ]
  },
  {
   "cell_type": "code",
   "execution_count": 13,
   "id": "2c8ea95c",
   "metadata": {},
   "outputs": [],
   "source": [
    "domain_window_features=[]\n",
    "for sample in data:\n",
    "    windows = cutting_into_windows(sample.f, sample.fs)\n",
    "    sample_features = []\n",
    "    for window in windows:\n",
    "        mfccs=librosa.feature.mfcc(y=window,sr=sample.fs,n_mfcc=20)\n",
    "        mfccs=np.mean(mfccs.T, axis=0)\n",
    "        sample_features.append(mfccs.reshape((-1, ))) \n",
    "    sample_features = np.array(sample_features).reshape((-1, ))\n",
    "    domain_window_features.append(sample_features)\n",
    "domain_window_features = np.array(domain_window_features)\n"
   ]
  },
  {
   "cell_type": "code",
   "execution_count": 14,
   "id": "3bfe607e",
   "metadata": {},
   "outputs": [
    {
     "name": "stdout",
     "output_type": "stream",
     "text": [
      "Average Cross Validation Score from Training:\n",
      "1.0\n",
      "\n",
      "\n",
      "Confusion Matrix:\n",
      "[[7 0 0 0 0 0]\n",
      " [0 7 0 0 0 0]\n",
      " [0 0 4 0 0 0]\n",
      " [0 0 0 7 0 0]\n",
      " [0 0 0 0 5 0]\n",
      " [0 0 0 0 0 6]]\n",
      "\n",
      "\n",
      "Test Statistics:\n",
      "              precision    recall  f1-score   support\n",
      "\n",
      "       Alarm       1.00      1.00      1.00         7\n",
      "     Blender       1.00      1.00      1.00         7\n",
      "       Clean       1.00      1.00      1.00         4\n",
      "   Microwave       1.00      1.00      1.00         7\n",
      "       Music       1.00      1.00      1.00         5\n",
      "     Silence       1.00      1.00      1.00         6\n",
      "\n",
      "    accuracy                           1.00        36\n",
      "   macro avg       1.00      1.00      1.00        36\n",
      "weighted avg       1.00      1.00      1.00        36\n",
      "\n",
      "\n",
      "\n",
      "Testing Accuracy: 1.0\n"
     ]
    },
    {
     "data": {
      "image/png": "[encoded data removed]",
      "text/plain": [
       "<Figure size 432x288 with 2 Axes>"
      ]
     },
     "metadata": {
      "needs_background": "light"
     },
     "output_type": "display_data"
    },
    {
     "data": {
      "text/plain": [
       "['Model/domain_window.joblib']"
      ]
     },
     "execution_count": 14,
     "metadata": {},
     "output_type": "execute_result"
    }
   ],
   "source": [
    "\n",
    "#training the model\n",
    "xtrain, xtest, ytrain, ytest = train_test_split(domain_window_features, tags, test_size=0.30,random_state=300)\n",
    "\n",
    "# clf = SVC(kernel='linear') #note the default kernel here is 'rbf' - radial basis function\n",
    "clf = RandomForestClassifier(random_state=300)\n",
    "clf.fit(xtrain, ytrain)\n",
    "cv_scores = cross_val_score(clf, xtrain, ytrain, cv=10)\n",
    "print('Average Cross Validation Score from Training:', cv_scores.mean(), sep='\\n', end='\\n\\n\\n')\n",
    "\n",
    "#testing the model\n",
    "ypred = clf.predict(xtest)\n",
    "cm = confusion_matrix(ytest, ypred)\n",
    "cr = classification_report(ytest, ypred)\n",
    "\n",
    "print('Confusion Matrix:', cm, sep='\\n', end='\\n\\n\\n')\n",
    "print('Test Statistics:', cr, sep='\\n', end='\\n\\n\\n')\n",
    "print('Testing Accuracy:', accuracy_score(ytest, ypred))\n",
    "names = [\"Alarm\", \"Blender\", \"Clean\", \"Microwave\", \"Music\", \"Silence\"]\n",
    "\n",
    "cm_display = ConfusionMatrixDisplay(cm, display_labels=names)\n",
    "cm_display.plot()\n",
    "plt.savefig(\"Pictures/domain_window_test_cf.png\")\n",
    "plt.show()\n",
    "\n",
    "joblib.dump(clf, \"Model/domain_window.joblib\")"
   ]
  },
  {
   "cell_type": "markdown",
   "id": "620db825",
   "metadata": {},
   "source": [
    "### 2.2.2 No windowing"
   ]
  },
  {
   "cell_type": "code",
   "execution_count": 15,
   "id": "0b37e118",
   "metadata": {},
   "outputs": [],
   "source": [
    "domain_no_window_feature=[]\n",
    "\n",
    "for sample in data:\n",
    "    mfccs=librosa.feature.mfcc(y=sample.f,sr=sample.fs,n_mfcc=40)\n",
    "    mfccs=np.mean(mfccs.T, axis=0)\n",
    "    domain_no_window_feature.append(mfccs.reshape((-1, )))\n",
    "domain_no_window_feature = np.array(domain_no_window_feature)\n"
   ]
  },
  {
   "cell_type": "code",
   "execution_count": 16,
   "id": "defcd603",
   "metadata": {},
   "outputs": [
    {
     "name": "stdout",
     "output_type": "stream",
     "text": [
      "Average Cross Validation Score from Training:\n",
      "1.0\n",
      "\n",
      "\n",
      "Confusion Matrix:\n",
      "[[7 0 0 0 0 0]\n",
      " [0 7 0 0 0 0]\n",
      " [0 0 6 0 0 0]\n",
      " [0 0 0 5 0 0]\n",
      " [0 0 0 0 6 0]\n",
      " [0 0 0 0 0 5]]\n",
      "\n",
      "\n",
      "Test Statistics:\n",
      "              precision    recall  f1-score   support\n",
      "\n",
      "       Alarm       1.00      1.00      1.00         7\n",
      "     Blender       1.00      1.00      1.00         7\n",
      "       Clean       1.00      1.00      1.00         6\n",
      "   Microwave       1.00      1.00      1.00         5\n",
      "       Music       1.00      1.00      1.00         6\n",
      "     Silence       1.00      1.00      1.00         5\n",
      "\n",
      "    accuracy                           1.00        36\n",
      "   macro avg       1.00      1.00      1.00        36\n",
      "weighted avg       1.00      1.00      1.00        36\n",
      "\n",
      "\n",
      "\n",
      "Testing Accuracy: 1.0\n"
     ]
    },
    {
     "data": {
      "image/png": "[encoded data removed]",
      "text/plain": [
       "<Figure size 432x288 with 2 Axes>"
      ]
     },
     "metadata": {
      "needs_background": "light"
     },
     "output_type": "display_data"
    },
    {
     "data": {
      "text/plain": [
       "['Model/domain_no_window.joblib']"
      ]
     },
     "execution_count": 16,
     "metadata": {},
     "output_type": "execute_result"
    }
   ],
   "source": [
    "xtrain, xtest, ytrain, ytest = train_test_split(domain_no_window_feature, tags, test_size=0.30,random_state=600)\n",
    "#clf = SVC()\n",
    "# clf = SVC(kernel=\"linear\", degree=2)\n",
    "clf = RandomForestClassifier(random_state=600)\n",
    "clf.fit(xtrain, ytrain)\n",
    "cv_scores = cross_val_score(clf, xtrain, ytrain, cv=10)\n",
    "print('Average Cross Validation Score from Training:', cv_scores.mean(), sep='\\n', end='\\n\\n\\n')\n",
    "\n",
    "#testing the model\n",
    "ypred = clf.predict(xtest)\n",
    "cm = confusion_matrix(ytest, ypred)\n",
    "cr = classification_report(ytest, ypred)\n",
    "\n",
    "print('Confusion Matrix:', cm, sep='\\n', end='\\n\\n\\n')\n",
    "print('Test Statistics:', cr, sep='\\n', end='\\n\\n\\n')\n",
    "\n",
    "print('Testing Accuracy:', accuracy_score(ytest, ypred))\n",
    "\n",
    "names = [\"Alarm\", \"Blender\", \"Clean\", \"Microwave\", \"Music\", \"Silence\"]\n",
    "\n",
    "cm_display = ConfusionMatrixDisplay(cm, display_labels=names)\n",
    "cm_display.plot()\n",
    "plt.savefig(\"Pictures/domain_no_window_test_cf.png\")\n",
    "plt.show()\n",
    "\n",
    "joblib.dump(clf, \"Model/domain_no_window.joblib\")"
   ]
  },
  {
   "cell_type": "markdown",
   "id": "d06fda85",
   "metadata": {},
   "source": [
    "## Real-Time Predictions "
   ]
  },
  {
   "cell_type": "markdown",
   "id": "0c9531b0",
   "metadata": {},
   "source": [
    "### Calling Model and Predicting"
   ]
  },
  {
   "cell_type": "code",
   "execution_count": 17,
   "id": "da89e36b",
   "metadata": {},
   "outputs": [
    {
     "ename": "ModuleNotFoundError",
     "evalue": "No module named 'pyaudio'",
     "output_type": "error",
     "traceback": [
      "\u001b[0;31m---------------------------------------------------------------------------\u001b[0m",
      "\u001b[0;31mModuleNotFoundError\u001b[0m                       Traceback (most recent call last)",
      "Cell \u001b[0;32mIn [17], line 1\u001b[0m\n\u001b[0;32m----> 1\u001b[0m \u001b[39mimport\u001b[39;00m \u001b[39mpyaudio\u001b[39;00m\n\u001b[1;32m      2\u001b[0m \u001b[39mimport\u001b[39;00m \u001b[39mwave\u001b[39;00m\n",
      "\u001b[0;31mModuleNotFoundError\u001b[0m: No module named 'pyaudio'"
     ]
    }
   ],
   "source": [
    "import pyaudio\n",
    "import wave"
   ]
  },
  {
   "cell_type": "code",
   "execution_count": null,
   "id": "0842d78d",
   "metadata": {},
   "outputs": [
    {
     "name": "stdout",
     "output_type": "stream",
     "text": [
      "start recording...\n",
      "recording stopped\n",
      "['Silence']\n"
     ]
    }
   ],
   "source": [
    "loaded_model = joblib.load(\"Model/domain_no_window.joblib\")\n",
    "\n",
    "CHUNK=1024\n",
    "FORMAT=pyaudio.paInt16\n",
    "CHANNELS=1\n",
    "RATE=48000\n",
    "\n",
    "p=pyaudio.PyAudio()\n",
    "stream=p.open(format=FORMAT,channels=CHANNELS,rate=RATE,input=True,frames_per_buffer=CHUNK)\n",
    "print(\"start recording...\")\n",
    "frames=[]\n",
    "seconds=15\n",
    "for i in range (0,int(RATE/CHUNK*seconds)):\n",
    "\tdata=stream.read(CHUNK)\n",
    "\tframes.append(data)\n",
    "\t\n",
    "print(\"recording stopped\")\n",
    "stream.stop_stream()\n",
    "stream.close()\n",
    "p.terminate()\n",
    "\n",
    "wf=wave.open(\"output.wav\",\"wb\")\n",
    "wf.setnchannels(CHANNELS)\n",
    "wf.setsampwidth(p.get_sample_size(FORMAT))\n",
    "wf.setframerate(RATE)\n",
    "wf.writeframes(b''.join(frames))\n",
    "wf.close()\n",
    "\n",
    "A,fs=librosa.load(\"./output.wav\", sr=None, mono=True, offset=0.0, duration=None)\n",
    "mfccs=librosa.feature.mfcc(y=A,sr=fs,n_mfcc=40)\n",
    "mfccs=np.mean(mfccs.T, axis=0)\n",
    "y_pred=clf.predict(np.array([mfccs]))\n",
    "\n",
    "print(y_pred)"
   ]
  }
 ],
 "metadata": {
  "kernelspec": {
   "display_name": "Python 3.8.13 ('machinelearning')",
   "language": "python",
   "name": "python3"
  },
  "language_info": {
   "codemirror_mode": {
    "name": "ipython",
    "version": 3
   },
   "file_extension": ".py",
   "mimetype": "text/x-python",
   "name": "python",
   "nbconvert_exporter": "python",
   "pygments_lexer": "ipython3",
   "version": "3.8.13"
  },
  "vscode": {
   "interpreter": {
    "hash": "e398ee05330ab2b67a6fd13ddd7dfd461ae6aacfb911fe13bbd65834d6e300e2"
   }
  }
 },
 "nbformat": 4,
 "nbformat_minor": 5
}
