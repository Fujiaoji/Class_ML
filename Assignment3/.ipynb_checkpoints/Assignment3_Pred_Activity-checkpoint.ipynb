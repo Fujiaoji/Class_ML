{
 "cells": [
  {
   "cell_type": "code",
   "execution_count": 230,
   "metadata": {},
   "outputs": [],
   "source": [
    "import os\n",
    "import cv2\n",
    "import glob\n",
    "import joblib\n",
    "import numpy as np\n",
    "import pandas as pd\n",
    "import seaborn as sns\n",
    "import matplotlib.pyplot as plt\n",
    "\n",
    "from functools import reduce\n",
    "from operator import concat\n",
    "from sklearn.svm import SVC\n",
    "from collections import Counter\n",
    "from sklearn.preprocessing import StandardScaler, RobustScaler\n",
    "from sklearn.model_selection import train_test_split\n",
    "from sklearn.model_selection import KFold, cross_val_score\n",
    "from sklearn.metrics import confusion_matrix\n",
    "from sklearn.metrics import classification_report, accuracy_score\n",
    "from sklearn.ensemble import RandomForestClassifier\n",
    "from sklearn.metrics import ConfusionMatrixDisplay\n",
    "\n",
    "from imblearn.combine import SMOTEENN \n",
    "\n"
   ]
  },
  {
   "cell_type": "markdown",
   "metadata": {},
   "source": [
    "# 1. Deal with initial Data and produce cutted data"
   ]
  },
  {
   "cell_type": "code",
   "execution_count": 231,
   "metadata": {},
   "outputs": [],
   "source": [
    "\"\"\"Because we use different app, so we use different methods to deal with\"\"\"\n",
    "def cutting_file(file_path, file, opath, wnum, cname):\n",
    "    \"\"\"Cutting sample into windows, no overlap\"\"\"\n",
    "    if cname==\"Walking\": # for Walking \n",
    "        wsize = 36000\n",
    "        pf_acc = pd.read_csv(file_path+\"/\"+file)\n",
    "        pf_gyr = pd.read_csv(file_path+\"/Gyroscope.csv\")\n",
    "        window_num = pf_acc.shape[0] // wsize # how many samples in this file\n",
    "        file = file.replace(\".csv\", \"\")\n",
    "        for i in range(window_num):\n",
    "            wnum = wnum +1\n",
    "            if wsize < pf_acc.shape[0]:\n",
    "                st_data = pd.concat([pf_acc.iloc[i*wsize:(i+1)*wsize, 2:], pf_gyr.iloc[i*wsize:(i+1)*wsize, 2:]], axis=1)\n",
    "                st_data.columns = ['Accelerometer_Z','Accelerometer_Y','Accelerometer_X','Gyroscope_Z','Gyroscope_Y',\n",
    "                  'Gyroscope_X']\n",
    "                st_data.to_csv(opath+\"/\"+cname.lower()+str(wnum)+\".csv\", index=None)\n",
    "            else:\n",
    "                st_data = pd.concat([pf_acc.iloc[:, 2:], pf_gyr.iloc[:, 2:]], axis=1)\n",
    "                st_data.columns = ['Accelerometer_Z','Accelerometer_Y','Accelerometer_X','Gyroscope_Z','Gyroscope_Y',\n",
    "                  'Gyroscope_X']\n",
    "                st_data.to_csv(opath+\"/\"+cname.lower()+str(wnum)+\".csv\", index=None)\n",
    "        return wnum\n",
    "    elif cname==\"Running\": \n",
    "        wsize = 6000\n",
    "        pf_acc = pd.read_csv(file_path+\"/\"+file)\n",
    "        pf_gyr = pd.read_csv(file_path+\"/Gyroscope.csv\")\n",
    "        window_num = pf_acc.shape[0] // wsize # how many samples in this file\n",
    "        file = file.replace(\".csv\", \"\")\n",
    "        for i in range(window_num):\n",
    "            wnum = wnum +1\n",
    "            if wsize < pf_acc.shape[0]:\n",
    "                st_data = pd.concat([pf_acc.iloc[i*wsize:(i+1)*wsize, 2:], pf_gyr.iloc[i*wsize:(i+1)*wsize, 2:]], axis=1)\n",
    "                st_data.columns = ['Accelerometer_Z','Accelerometer_Y','Accelerometer_X','Gyroscope_Z','Gyroscope_Y',\n",
    "                  'Gyroscope_X']\n",
    "                st_data.to_csv(opath+\"/\"+cname.lower()+str(wnum)+\".csv\", index=None)\n",
    "            else:\n",
    "                st_data = pd.concat([pf_acc.iloc[:, 2:], pf_gyr.iloc[:, 2:]], axis=1)\n",
    "                st_data.columns = ['Accelerometer_Z','Accelerometer_Y','Accelerometer_X','Gyroscope_Z','Gyroscope_Y',\n",
    "                  'Gyroscope_X']\n",
    "                st_data.to_csv(opath+\"/\"+cname.lower()+str(wnum)+\".csv\", index=None)\n",
    "        return wnum\n",
    "    \n",
    "    elif cname == \"Standing\":\n",
    "        wnum = wnum + 1\n",
    "        pf_acc = pd.read_csv(file_path+\"/\"+file)\n",
    "        pf_gyr = pd.read_csv(file_path+\"/Gyroscope.csv\")\n",
    "        st_data = pd.concat([pf_acc.iloc[:, 2:], pf_gyr.iloc[:, 2:]], axis=1)\n",
    "        st_data.columns = ['Accelerometer_Z','Accelerometer_Y','Accelerometer_X',\\\n",
    "            'Gyroscope_Z','Gyroscope_Y', 'Gyroscope_X']\n",
    "        st_data.to_csv(opath+\"/\"+cname.lower()+str(wnum)+\".csv\", index=None)\n",
    "        return wnum\n",
    "    elif (cname == \"Upstairs\") or (cname == \"Downstairs\"):\n",
    "        wnum = wnum +1\n",
    "        pf = pd.read_csv(file_path+file, header=1, sep=\";\")\n",
    "        st_data = pf[[\"ACCELEROMETER Z (m/s²)\", \"ACCELEROMETER Y (m/s²)\", \"ACCELEROMETER X (m/s²)\", \\\n",
    "            \"GYROSCOPE Z (rad/s)\",\"GYROSCOPE Y (rad/s)\",\"GYROSCOPE X (rad/s)\"]]\n",
    "        st_data.columns = ['Accelerometer_Z','Accelerometer_Y','Accelerometer_X',\\\n",
    "            'Gyroscope_Z','Gyroscope_Y', 'Gyroscope_X']\n",
    "        st_data.to_csv(opath+\"/\"+cname.lower()+str(wnum)+\".csv\", index=None)\n",
    "        return wnum\n",
    "\n",
    "    \n"
   ]
  },
  {
   "cell_type": "code",
   "execution_count": 232,
   "metadata": {},
   "outputs": [],
   "source": [
    "def divide_long_data(wpath, opath, cname, name):\n",
    "    wnum = 0\n",
    "    for dirpath, dirnames, filenames in os.walk(wpath):\n",
    "        for file in filenames:\n",
    "            if file == name or file.startswith(cname) : # z, y, x\n",
    "                wnum = cutting_file(dirpath, file, opath, wnum, cname)"
   ]
  },
  {
   "cell_type": "code",
   "execution_count": 233,
   "metadata": {},
   "outputs": [
    {
     "name": "stdout",
     "output_type": "stream",
     "text": [
      "Finished Downstairs\n",
      "Finished Running\n",
      "Finished Standing\n",
      "Finished Upstairs\n",
      "Finished Walking\n"
     ]
    }
   ],
   "source": [
    "\"\"\"1-1 Divide the csv data into different files\"\"\"\n",
    "class_name = [\"Downstairs\", \"Running\", \"Standing\", \"Upstairs\",  \"Walking\"]\n",
    "for cname in class_name:\n",
    "    wpath = \"Dataset/Initial_data/\"+cname+\"/\"\n",
    "    opath = \"Dataset/Cutted_data/\"+cname.lower()+\"_whole\"\n",
    "    divide_long_data(wpath, opath, cname, name=\"Accelerometer.csv\")\n",
    "    print(\"Finished \" + cname)\n"
   ]
  },
  {
   "cell_type": "markdown",
   "metadata": {},
   "source": [
    "# 2 Read data and construct labels\n",
    "\n",
    "For each class, we utilze ACCELEROMETER z, y, x, and GYROSCOPE z, y ,x information"
   ]
  },
  {
   "cell_type": "code",
   "execution_count": 234,
   "metadata": {},
   "outputs": [],
   "source": [
    "# for sample in data, the colomn 0, 1, 2 is ACCELEROMETER z, y, x, colomn 3, 4, 5 is Gyroscope z, y, x\n",
    "class_name = [\"Downstairs\", \"Running\", \"Standing\", \"Upstairs\",  \"Walking\"]\n",
    "data = []\n",
    "labels = []\n",
    "for i_class in class_name:\n",
    "    for each_file in glob.glob(\"Dataset/Cutted_data/\"+i_class.lower()+\"_whole/\"+\"/*.csv\"):\n",
    "        c_data = pd.read_csv(each_file)\n",
    "        labels.append(i_class)\n",
    "        data.append(c_data)"
   ]
  },
  {
   "cell_type": "markdown",
   "metadata": {},
   "source": [
    "# 3 Select Features"
   ]
  },
  {
   "cell_type": "code",
   "execution_count": 235,
   "metadata": {},
   "outputs": [],
   "source": [
    "data_feature = []\n",
    "for j_sample in data:    \n",
    "    sample_feature = []\n",
    "    # # use feature mean for each column\n",
    "    j_mean = np.mean(j_sample, axis=0)\n",
    "    j_var = np.var(j_sample, axis=0)\n",
    "    j_above_mean = j_sample.apply(lambda x: np.sum(x > x.mean()))\n",
    "    # j_max = np.max(j_sample, axis=0)\n",
    "    # j_min = np.min(j_sample, axis=0)\n",
    "    # j_std = np.std(j_sample, axis=0)\n",
    "    # j_negative_count = j_sample.apply(lambda x: np.sum(x < 0))\n",
    "    # j_positive_count = j_sample.apply(lambda x: np.sum(x > 0))\n",
    "    # j_energy = j_sample.apply(lambda x: np.sum(x**2)/100)\n",
    "    # j_avg_abs_diff = j_sample.apply(lambda x: np.mean(np.absolute(x - np.mean(x))))\n",
    "    \n",
    "    for item_list in [j_mean, j_var, j_above_mean]:#, j_above_mean]:#[j_mean, j_max, j_min, j_std,j_var, j_negative_count, j_positive_count,\\\n",
    "        #  j_energy, j_avg_abs_diff, j_above_mean]:\n",
    "        sample_feature.extend(item_list)\n",
    "    data_feature.append(sample_feature) #np.array(class_feature)\n",
    "data_feature = np.array(data_feature)"
   ]
  },
  {
   "cell_type": "markdown",
   "metadata": {},
   "source": [
    "# 4. Rebalence the data (for training dataset)"
   ]
  },
  {
   "cell_type": "code",
   "execution_count": 236,
   "metadata": {},
   "outputs": [],
   "source": [
    "xtrain, xtest, ytrain, ytest = train_test_split(data_feature, labels, test_size=0.2,random_state=10, shuffle=True)"
   ]
  },
  {
   "cell_type": "code",
   "execution_count": 237,
   "metadata": {},
   "outputs": [
    {
     "data": {
      "image/png": "[encoded data removed]",
      "text/plain": [
       "<Figure size 432x288 with 1 Axes>"
      ]
     },
     "metadata": {
      "needs_background": "light"
     },
     "output_type": "display_data"
    }
   ],
   "source": [
    "\"\"\"Initial Training Data\"\"\"\n",
    "label_count = Counter(ytrain)\n",
    "label_count = sorted(label_count.items())\n",
    "l_keys= [item[0] for item in label_count]\n",
    "l_values = [item[1] for item in label_count]\n",
    "plt.bar(l_keys, l_values, width=0.6)\n",
    "plt.show()"
   ]
  },
  {
   "cell_type": "code",
   "execution_count": 238,
   "metadata": {},
   "outputs": [
    {
     "data": {
      "text/plain": [
       "[('Downstairs', 17),\n",
       " ('Running', 17),\n",
       " ('Standing', 38),\n",
       " ('Upstairs', 16),\n",
       " ('Walking', 29)]"
      ]
     },
     "execution_count": 238,
     "metadata": {},
     "output_type": "execute_result"
    }
   ],
   "source": [
    "label_count"
   ]
  },
  {
   "cell_type": "code",
   "execution_count": 239,
   "metadata": {},
   "outputs": [
    {
     "name": "stdout",
     "output_type": "stream",
     "text": [
      "Resampled dataset shape Counter({'Downstairs': 16, 'Running': 16, 'Standing': 16, 'Upstairs': 16, 'Walking': 16})\n"
     ]
    },
    {
     "data": {
      "image/png": "[encoded data removed]",
      "text/plain": [
       "<Figure size 432x288 with 1 Axes>"
      ]
     },
     "metadata": {
      "needs_background": "light"
     },
     "output_type": "display_data"
    }
   ],
   "source": [
    "\"\"\"After sampling\"\"\"\n",
    "from imblearn.under_sampling import ClusterCentroids\n",
    "cc = ClusterCentroids(random_state=0)\n",
    "xtrain, ytrain = cc.fit_resample(xtrain, ytrain)\n",
    "print('Resampled dataset shape %s' % Counter(ytrain))\n",
    "\n",
    "#plot after balacing\n",
    "label_count2 = Counter(ytrain)\n",
    "label_count2 = sorted(label_count2.items())\n",
    "l_keys2= [item[0] for item in label_count2]\n",
    "l_values2 = [item[1] for item in label_count2]\n",
    "plt.bar(l_keys2, l_values2, width=0.6)\n",
    "plt.show()"
   ]
  },
  {
   "cell_type": "markdown",
   "metadata": {},
   "source": [
    "# 5. Spread of feature"
   ]
  },
  {
   "cell_type": "code",
   "execution_count": 240,
   "metadata": {},
   "outputs": [
    {
     "data": {
      "image/png": "[encoded data removed]",
      "text/plain": [
       "<Figure size 432x288 with 1 Axes>"
      ]
     },
     "metadata": {
      "needs_background": "light"
     },
     "output_type": "display_data"
    }
   ],
   "source": [
    "\"\"\"Initial spread of feature, Just show it, because Random forest no need scalar\"\"\"\n",
    "for i in range(xtrain.shape[1]):\n",
    "    sns.kdeplot(xtrain[:,i])"
   ]
  },
  {
   "cell_type": "code",
   "execution_count": 241,
   "metadata": {},
   "outputs": [
    {
     "data": {
      "text/plain": [
       "['Model/scaler.joblib']"
      ]
     },
     "execution_count": 241,
     "metadata": {},
     "output_type": "execute_result"
    },
    {
     "data": {
      "image/png": "[encoded data removed]",
      "text/plain": [
       "<Figure size 432x288 with 1 Axes>"
      ]
     },
     "metadata": {
      "needs_background": "light"
     },
     "output_type": "display_data"
    }
   ],
   "source": [
    "\"\"\"After scaler: because random forest, so we do not use it\"\"\"\n",
    "scaler = RobustScaler()\n",
    "xtrain = scaler.fit_transform(xtrain)\n",
    "for i in range(xtrain.shape[1]):\n",
    "    sns.kdeplot(xtrain[:,i])\n",
    "joblib.dump(scaler, \"Model/scaler.joblib\")"
   ]
  },
  {
   "cell_type": "markdown",
   "metadata": {},
   "source": [
    "# 6. Model"
   ]
  },
  {
   "cell_type": "code",
   "execution_count": 242,
   "metadata": {},
   "outputs": [
    {
     "name": "stdout",
     "output_type": "stream",
     "text": [
      "Average Cross Validation Score from Training:\n",
      "0.9\n",
      "\n",
      "\n",
      "Confusion Matrix:\n",
      "[[ 4  0  0  0  0]\n",
      " [ 0  3  0  0  0]\n",
      " [ 1  0 11  0  0]\n",
      " [ 1  0  0  3  0]\n",
      " [ 0  0  0  0  7]]\n",
      "\n",
      "\n",
      "Test Statistics:\n",
      "              precision    recall  f1-score   support\n",
      "\n",
      "  Downstairs       0.67      1.00      0.80         4\n",
      "     Running       1.00      1.00      1.00         3\n",
      "    Standing       1.00      0.92      0.96        12\n",
      "    Upstairs       1.00      0.75      0.86         4\n",
      "     Walking       1.00      1.00      1.00         7\n",
      "\n",
      "    accuracy                           0.93        30\n",
      "   macro avg       0.93      0.93      0.92        30\n",
      "weighted avg       0.96      0.93      0.94        30\n",
      "\n",
      "\n",
      "\n",
      "Testing Accuracy: 0.9333333333333333\n"
     ]
    },
    {
     "data": {
      "image/png": "[encoded data removed]",
      "text/plain": [
       "<Figure size 432x288 with 2 Axes>"
      ]
     },
     "metadata": {
      "needs_background": "light"
     },
     "output_type": "display_data"
    },
    {
     "data": {
      "text/plain": [
       "['Model/model.joblib']"
      ]
     },
     "execution_count": 242,
     "metadata": {},
     "output_type": "execute_result"
    }
   ],
   "source": [
    "# xtrain, xtest, ytrain, ytest = train_test_split(data_feature, labels, test_size=0.30,random_state=42)\n",
    "# clf = SVC()\n",
    "# clf = SVC(kernel=\"linear\", degree=2)\n",
    "clf = RandomForestClassifier(random_state=600)\n",
    "clf.fit(xtrain, ytrain)\n",
    "cv_scores = cross_val_score(clf, xtrain, ytrain, cv=10)\n",
    "print('Average Cross Validation Score from Training:', cv_scores.mean(), sep='\\n', end='\\n\\n\\n')\n",
    "\n",
    "#testing the model\n",
    "xtest = scaler.transform(xtest)\n",
    "ypred = clf.predict(xtest)\n",
    "cm = confusion_matrix(ytest, ypred)\n",
    "cr = classification_report(ytest, ypred)\n",
    "\n",
    "print('Confusion Matrix:', cm, sep='\\n', end='\\n\\n\\n')\n",
    "print('Test Statistics:', cr, sep='\\n', end='\\n\\n\\n')\n",
    "\n",
    "print('Testing Accuracy:', accuracy_score(ytest, ypred))\n",
    "\n",
    "\n",
    "cm_display = ConfusionMatrixDisplay(cm, display_labels=class_name)\n",
    "cm_display.plot()\n",
    "# plt.savefig(\"Pictures/activity_rec.png\")\n",
    "plt.show()\n",
    "\n",
    "joblib.dump(clf, \"Model/model.joblib\")\n",
    "\n"
   ]
  },
  {
   "cell_type": "markdown",
   "metadata": {},
   "source": [
    "# 7. Real-Time Predictions"
   ]
  },
  {
   "cell_type": "code",
   "execution_count": 243,
   "metadata": {},
   "outputs": [
    {
     "name": "stdout",
     "output_type": "stream",
     "text": [
      "True label is:  ['Standing', 'Running', 'Walking']\n",
      "Pred label is:  ['Standing' 'Running' 'Walking']\n"
     ]
    }
   ],
   "source": [
    "# read pred data\n",
    "true_label = [\"Standing\", \"Running\", \"Walking\"]\n",
    "pred_data = []\n",
    "for item in true_label:\n",
    "    pred_acc = pd.read_csv(\"Dataset/Pred/\"+item+\"/Accelerometer.csv\")\n",
    "    pred_gry = pd.read_csv(\"Dataset/Pred/\"+item+\"/Gyroscope.csv\")\n",
    "    pred_data.append(pd.concat([pred_acc.iloc[:, 2:], pred_gry.iloc[:, 2:]], axis=1))\n",
    "\n",
    "# feature\n",
    "pred_feature = []\n",
    "for c_item in pred_data:\n",
    "    pred_mean = np.mean(c_item, axis=0)\n",
    "    pred_var = np.var(c_item, axis=0)\n",
    "    pred_above_mean = c_item.apply(lambda x: np.sum(x > x.mean()))\n",
    "    c_feature = []\n",
    "    for item_list in [pred_mean, pred_var, pred_above_mean]:\n",
    "        c_feature.extend(item_list)\n",
    "    pred_feature.append(c_feature)\n",
    "\n",
    "pred_feature = np.array(pred_feature)\n",
    "\n",
    "# Pred\n",
    "pred_scaler = joblib.load(\"Model/scaler.joblib\")\n",
    "pred_model = joblib.load(\"Model/model.joblib\")\n",
    "pred_feature = pred_scaler.transform(pred_feature)\n",
    "pred_ = pred_model.predict(pred_feature)\n",
    "\n",
    "print(\"True label is: \", true_label)\n",
    "print(\"Pred label is: \", pred_)\n"
   ]
  }
 ],
 "metadata": {
  "kernelspec": {
   "display_name": "Python 3.8.13 ('machinelearning')",
   "language": "python",
   "name": "python3"
  },
  "language_info": {
   "codemirror_mode": {
    "name": "ipython",
    "version": 3
   },
   "file_extension": ".py",
   "mimetype": "text/x-python",
   "name": "python",
   "nbconvert_exporter": "python",
   "pygments_lexer": "ipython3",
   "version": "3.8.13"
  },
  "orig_nbformat": 4,
  "vscode": {
   "interpreter": {
    "hash": "e398ee05330ab2b67a6fd13ddd7dfd461ae6aacfb911fe13bbd65834d6e300e2"
   }
  }
 },
 "nbformat": 4,
 "nbformat_minor": 2
}
